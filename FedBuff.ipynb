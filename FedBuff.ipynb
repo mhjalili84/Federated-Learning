{
  "cells": [
    {
      "cell_type": "markdown",
      "metadata": {
        "id": "view-in-github",
        "colab_type": "text"
      },
      "source": [
        "<a href=\"https://colab.research.google.com/github/mhjalili84/Federated-Learning/blob/main/FedBuff.ipynb\" target=\"_parent\"><img src=\"https://colab.research.google.com/assets/colab-badge.svg\" alt=\"Open In Colab\"/></a>"
      ]
    },
    {
      "cell_type": "markdown",
      "metadata": {
        "id": "_7zYOql-dVx4"
      },
      "source": [
        "#Federated Learning with Buffered Asynchronous Aggregation\n",
        "Ref: https://arxiv.org/pdf/2106.06639\n"
      ]
    },
    {
      "cell_type": "markdown",
      "metadata": {
        "id": "F3vO1FdVdc_Y"
      },
      "source": [
        "#Import libraries and settings"
      ]
    },
    {
      "cell_type": "code",
      "execution_count": 1,
      "metadata": {
        "id": "ZYTSjpC-aPtd"
      },
      "outputs": [],
      "source": [
        "import argparse\n",
        "import random\n",
        "import time\n",
        "import threading\n",
        "import copy\n",
        "import numpy as np\n",
        "import matplotlib.pyplot as plt\n",
        "import torch\n",
        "import torch.nn as nn\n",
        "import torch.optim as optim\n",
        "from torchvision import datasets, transforms\n",
        "from torch.utils.data import DataLoader, Dataset, Subset"
      ]
    },
    {
      "cell_type": "markdown",
      "metadata": {
        "id": "D1Cfkoyod1WW"
      },
      "source": [
        "#Settings"
      ]
    },
    {
      "cell_type": "code",
      "execution_count": 2,
      "metadata": {
        "id": "EtaLIuWdaXDa"
      },
      "outputs": [],
      "source": [
        "# --------- Argument Parser ---------\n",
        "def parse_args():\n",
        "    parser = argparse.ArgumentParser()\n",
        "    parser.add_argument('--num_clients', type=int, default=3, help='Number of clients')\n",
        "    parser.add_argument('--alpha', type=float, default=0.1, help='Dirichlet distribution alpha')\n",
        "    parser.add_argument('--epochs', type=int, default=20, help='Number of communication rounds')\n",
        "    parser.add_argument('--batch_size', type=int, default=24, help='Batch size for local training')\n",
        "    parser.add_argument('--local_epochs', type=int, default=5, help='Number of local epochs per client')\n",
        "    parser.add_argument('--buffer_size', type=int, default=3, help='Number of updates to trigger aggregation')\n",
        "    parser.add_argument('--delay_means', nargs='+', type=float, default=[0.5, 2.5, 1], help='Means of communication delay for each client')\n",
        "    parser.add_argument('--delay_stds', nargs='+', type=float, default=[0.2, 0.2, 0.2], help='Standard deviations of communication delay for each client')\n",
        "    args = parser.parse_args([])\n",
        "    return args\n",
        "\n",
        "args = parse_args()\n",
        "device = torch.device('cuda' if torch.cuda.is_available() else 'cpu')"
      ]
    },
    {
      "cell_type": "markdown",
      "metadata": {
        "id": "_2nvs6jCeQ5h"
      },
      "source": [
        "#Load and split MNIST dataset"
      ]
    },
    {
      "cell_type": "code",
      "execution_count": 3,
      "metadata": {
        "id": "Zw8Na1SvaiNU",
        "colab": {
          "base_uri": "https://localhost:8080/"
        },
        "outputId": "25b49beb-1667-48d2-a38e-e0b5a2f2186f"
      },
      "outputs": [
        {
          "output_type": "stream",
          "name": "stderr",
          "text": [
            "100%|██████████| 9.91M/9.91M [00:00<00:00, 17.7MB/s]\n",
            "100%|██████████| 28.9k/28.9k [00:00<00:00, 487kB/s]\n",
            "100%|██████████| 1.65M/1.65M [00:00<00:00, 4.43MB/s]\n",
            "100%|██████████| 4.54k/4.54k [00:00<00:00, 6.12MB/s]\n"
          ]
        }
      ],
      "source": [
        "# --------- Data Loading and Partitioning ---------\n",
        "def load_data_dirichlet(num_clients, alpha=0.5):\n",
        "    transform = transforms.Compose([transforms.ToTensor()])\n",
        "    train_dataset = datasets.MNIST('./data', train=True, download=True, transform=transform)\n",
        "    test_dataset = datasets.MNIST('./data', train=False, download=True, transform=transform)\n",
        "\n",
        "    labels = np.array(train_dataset.targets)\n",
        "    num_classes = 10\n",
        "\n",
        "    data_split = [[] for _ in range(num_clients)]\n",
        "\n",
        "    for k in range(num_classes):\n",
        "        idx_k = np.where(labels == k)[0]\n",
        "        np.random.shuffle(idx_k)\n",
        "        proportions = np.random.dirichlet(np.repeat(alpha, num_clients))\n",
        "        proportions = (np.cumsum(proportions) * len(idx_k)).astype(int)[:-1]\n",
        "        client_idx_split = np.split(idx_k, proportions)\n",
        "\n",
        "        for i in range(num_clients):\n",
        "            data_split[i].extend(client_idx_split[i])\n",
        "\n",
        "    client_datasets = [Subset(train_dataset, indices) for indices in data_split]\n",
        "    test_indices = list(range(len(test_dataset)))\n",
        "    random.shuffle(test_indices)\n",
        "    server_test_set = Subset(test_dataset, test_indices[:int(0.1 * len(test_dataset))])\n",
        "\n",
        "    return client_datasets, server_test_set\n",
        "\n",
        "client_datasets, server_test_dataset = load_data_dirichlet(num_clients=args.num_clients, alpha=args.alpha)"
      ]
    },
    {
      "cell_type": "markdown",
      "metadata": {
        "id": "zd6GuLuCeHjk"
      },
      "source": [
        "#Define model"
      ]
    },
    {
      "cell_type": "code",
      "execution_count": 4,
      "metadata": {
        "id": "sO58iPZgaqh0"
      },
      "outputs": [],
      "source": [
        "# --------- MLP Model Definition ---------\n",
        "class MLP(nn.Module):\n",
        "    def __init__(self):\n",
        "        super(MLP, self).__init__()\n",
        "        self.model = nn.Sequential(\n",
        "            nn.Flatten(),\n",
        "            nn.Linear(28*28, 128),\n",
        "            nn.ReLU(),\n",
        "            nn.Linear(128, 64),\n",
        "            nn.ReLU(),\n",
        "            nn.Linear(64, 10)\n",
        "        )\n",
        "\n",
        "    def forward(self, x):\n",
        "        return self.model(x)"
      ]
    },
    {
      "cell_type": "markdown",
      "metadata": {
        "id": "QRh_KYk5ey-I"
      },
      "source": [
        "#Define training, evaluation and utility functions"
      ]
    },
    {
      "cell_type": "code",
      "execution_count": 5,
      "metadata": {
        "id": "Th0DKu4ea0mL"
      },
      "outputs": [],
      "source": [
        "# --------- Client Definition ---------\n",
        "class Client:\n",
        "    def __init__(self, id, train_dataset, delay_mean, delay_std):\n",
        "        self.id = id\n",
        "        self.train_dataset = train_dataset\n",
        "        self.delay_mean = delay_mean\n",
        "        self.delay_std = delay_std\n",
        "        self.model = MLP().to(device)\n",
        "        self.criterion = nn.CrossEntropyLoss()\n",
        "        self.optimizer = optim.SGD(self.model.parameters(), lr=0.005)\n",
        "\n",
        "    def train(self, local_epochs, batch_size):\n",
        "        loader = DataLoader(self.train_dataset, batch_size=batch_size, shuffle=True, num_workers=2)\n",
        "        self.model.train()\n",
        "        for epoch in range(local_epochs):\n",
        "            for data, target in loader:\n",
        "                data, target = data.to(device), target.to(device)\n",
        "                self.optimizer.zero_grad()\n",
        "                output = self.model(data)\n",
        "                loss = self.criterion(output, target)\n",
        "                loss.backward()\n",
        "                self.optimizer.step()\n",
        "\n",
        "    def get_parameters(self):\n",
        "        return copy.deepcopy(self.model.state_dict())\n",
        "\n",
        "    def set_parameters(self, new_params):\n",
        "        self.model.load_state_dict(new_params)\n",
        "\n",
        "    def client_update(self, local_epochs, batch_size):\n",
        "        self.train(local_epochs, batch_size)\n",
        "        delay = max(0, np.random.normal(self.delay_mean, self.delay_std))\n",
        "        time.sleep(delay)\n",
        "        return self.get_parameters(), len(self.train_dataset)\n",
        "\n",
        "# --------- Server Definition ---------\n",
        "class Server:\n",
        "    def __init__(self, test_dataset):\n",
        "        self.global_model = MLP().to(device)\n",
        "        self.test_loader = DataLoader(test_dataset, batch_size=128, shuffle=False)\n",
        "        self.buffer_updates = []  # list of (delta, size)\n",
        "\n",
        "    def test(self):\n",
        "        self.global_model.eval()\n",
        "        correct = 0\n",
        "        total = 0\n",
        "        total_loss = 0\n",
        "        criterion = nn.CrossEntropyLoss()\n",
        "        with torch.no_grad():\n",
        "            for data, target in self.test_loader:\n",
        "                data, target = data.to(device), target.to(device)\n",
        "                outputs = self.global_model(data)\n",
        "                loss = criterion(outputs, target).item()\n",
        "                total_loss += loss\n",
        "                preds = outputs.argmax(dim=1)\n",
        "                correct += preds.eq(target).sum().item()\n",
        "                total += target.size(0)\n",
        "        accuracy = correct / total\n",
        "        avg_loss = total_loss / len(self.test_loader)\n",
        "        return avg_loss, accuracy"
      ]
    },
    {
      "cell_type": "markdown",
      "metadata": {
        "id": "qHsQf9gwgEj1"
      },
      "source": [
        "#Federated training loop"
      ]
    },
    {
      "cell_type": "code",
      "execution_count": 6,
      "metadata": {
        "id": "rz5qkHvya9dc",
        "colab": {
          "base_uri": "https://localhost:8080/",
          "height": 1000
        },
        "outputId": "fa60826e-d9c8-4e0b-a9e2-f1e31d864bff"
      },
      "outputs": [
        {
          "output_type": "stream",
          "name": "stdout",
          "text": [
            "Communication round 1\n",
            "Buffer full. Aggregating...\n",
            "Round 1: Loss=1.5418, Accuracy=49.40%\n",
            "Communication round 2\n",
            "Buffer full. Aggregating...\n",
            "Round 2: Loss=0.7770, Accuracy=72.90%\n",
            "Communication round 3\n",
            "Buffer full. Aggregating...\n",
            "Round 3: Loss=0.5121, Accuracy=82.00%\n",
            "Communication round 4\n",
            "Buffer full. Aggregating...\n",
            "Round 4: Loss=0.4320, Accuracy=85.00%\n",
            "Communication round 5\n",
            "Buffer full. Aggregating...\n",
            "Round 5: Loss=0.3727, Accuracy=87.80%\n",
            "Communication round 6\n",
            "Buffer full. Aggregating...\n",
            "Round 6: Loss=0.3393, Accuracy=89.30%\n",
            "Communication round 7\n",
            "Buffer full. Aggregating...\n",
            "Round 7: Loss=0.3226, Accuracy=89.50%\n",
            "Communication round 8\n",
            "Buffer full. Aggregating...\n",
            "Round 8: Loss=0.3107, Accuracy=89.80%\n",
            "Communication round 9\n",
            "Buffer full. Aggregating...\n",
            "Round 9: Loss=0.2919, Accuracy=90.30%\n",
            "Communication round 10\n",
            "Buffer full. Aggregating...\n",
            "Round 10: Loss=0.2790, Accuracy=90.50%\n",
            "Communication round 11\n",
            "Buffer full. Aggregating...\n",
            "Round 11: Loss=0.2677, Accuracy=90.70%\n",
            "Communication round 12\n",
            "Buffer full. Aggregating...\n",
            "Round 12: Loss=0.2500, Accuracy=91.40%\n",
            "Communication round 13\n",
            "Buffer full. Aggregating...\n",
            "Round 13: Loss=0.2440, Accuracy=92.00%\n",
            "Communication round 14\n",
            "Buffer full. Aggregating...\n",
            "Round 14: Loss=0.2320, Accuracy=92.40%\n",
            "Communication round 15\n",
            "Buffer full. Aggregating...\n",
            "Round 15: Loss=0.2136, Accuracy=93.30%\n",
            "Communication round 16\n",
            "Buffer full. Aggregating...\n",
            "Round 16: Loss=0.2156, Accuracy=93.20%\n",
            "Communication round 17\n",
            "Buffer full. Aggregating...\n",
            "Round 17: Loss=0.2115, Accuracy=93.70%\n",
            "Communication round 18\n",
            "Buffer full. Aggregating...\n",
            "Round 18: Loss=0.2010, Accuracy=93.90%\n",
            "Communication round 19\n",
            "Buffer full. Aggregating...\n",
            "Round 19: Loss=0.1931, Accuracy=94.10%\n",
            "Communication round 20\n",
            "Buffer full. Aggregating...\n",
            "Round 20: Loss=0.1964, Accuracy=94.30%\n"
          ]
        },
        {
          "output_type": "display_data",
          "data": {
            "text/plain": [
              "<Figure size 1200x500 with 2 Axes>"
            ],
            "image/png": "[encoded data removed]"
          },
          "metadata": {}
        }
      ],
      "source": [
        "# --------- Federated Training Function (FedBuff + FedAvg-like) ---------\n",
        "def federated_training():\n",
        "    clients = [Client(i, client_datasets[i], args.delay_means[i], args.delay_stds[i]) for i in range(args.num_clients)]\n",
        "    server = Server(server_test_dataset)\n",
        "    losses = []\n",
        "    accuracies = []\n",
        "    lock = threading.Lock()\n",
        "    eta_g = 1.0\n",
        "\n",
        "    for epoch in range(args.epochs):\n",
        "        print(f'Communication round {epoch+1}')\n",
        "\n",
        "        def client_thread_func(i):\n",
        "            current_params = server.global_model.state_dict()\n",
        "            clients[i].set_parameters(current_params)\n",
        "            new_params, data_size = clients[i].client_update(args.local_epochs, args.batch_size)\n",
        "            delta = {k: current_params[k] - new_params[k] for k in current_params.keys()}\n",
        "\n",
        "            with lock:\n",
        "                server.buffer_updates.append((delta, data_size))\n",
        "                if len(server.buffer_updates) >= args.buffer_size:\n",
        "                    print(\"Buffer full. Aggregating...\")\n",
        "                    total_size = sum([size for _, size in server.buffer_updates])\n",
        "                    agg_delta = {k: sum([d[k] * size / total_size for d, size in server.buffer_updates])\n",
        "                                 for k in current_params.keys()}\n",
        "                    new_state = {k: current_params[k] - eta_g * agg_delta[k] for k in current_params.keys()}\n",
        "                    server.global_model.load_state_dict(new_state)\n",
        "                    server.buffer_updates = []\n",
        "\n",
        "        client_threads = []\n",
        "        for i in range(args.num_clients):\n",
        "            t = threading.Thread(target=client_thread_func, args=(i,))\n",
        "            t.start()\n",
        "            client_threads.append(t)\n",
        "\n",
        "        for t in client_threads:\n",
        "            t.join()\n",
        "\n",
        "        loss, acc = server.test()\n",
        "        losses.append(loss)\n",
        "        accuracies.append(acc)\n",
        "        print(f'Round {epoch+1}: Loss={loss:.4f}, Accuracy={acc*100:.2f}%')\n",
        "\n",
        "    # Plot training curves\n",
        "    plt.figure(figsize=(12,5))\n",
        "    plt.subplot(1,2,1)\n",
        "    plt.plot(range(1, args.epochs+1), losses, marker='o')\n",
        "    plt.title('Loss over Rounds')\n",
        "    plt.xlabel('Round')\n",
        "    plt.ylabel('Loss')\n",
        "\n",
        "    plt.subplot(1,2,2)\n",
        "    plt.plot(range(1, args.epochs+1), [acc*100 for acc in accuracies], marker='o', color='green')\n",
        "    plt.title('Accuracy over Rounds')\n",
        "    plt.xlabel('Round')\n",
        "    plt.ylabel('Accuracy (%)')\n",
        "    plt.tight_layout()\n",
        "    plt.show()\n",
        "\n",
        "\n",
        "# --------- Run Training ---------\n",
        "if __name__ == \"__main__\":\n",
        "    federated_training()"
      ]
    }
  ],
  "metadata": {
    "accelerator": "GPU",
    "colab": {
      "gpuType": "T4",
      "provenance": [],
      "authorship_tag": "ABX9TyORa+mi5kvUyQD9lAwXGQwm",
      "include_colab_link": true
    },
    "kernelspec": {
      "display_name": "Python 3",
      "name": "python3"
    },
    "language_info": {
      "name": "python"
    }
  },
  "nbformat": 4,
  "nbformat_minor": 0
}