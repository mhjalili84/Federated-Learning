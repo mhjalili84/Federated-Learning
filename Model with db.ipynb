{
  "nbformat": 4,
  "nbformat_minor": 0,
  "metadata": {
    "colab": {
      "provenance": [],
      "authorship_tag": "ABX9TyMlCR+vaj+cUmLxTpoX/q3P",
      "include_colab_link": true
    },
    "kernelspec": {
      "name": "python3",
      "display_name": "Python 3"
    },
    "language_info": {
      "name": "python"
    }
  },
  "cells": [
    {
      "cell_type": "markdown",
      "metadata": {
        "id": "view-in-github",
        "colab_type": "text"
      },
      "source": [
        "<a href=\"https://colab.research.google.com/github/mhjalili84/Federated-Learning/blob/main/Model%20with%20db.ipynb\" target=\"_parent\"><img src=\"https://colab.research.google.com/assets/colab-badge.svg\" alt=\"Open In Colab\"/></a>"
      ]
    },
    {
      "cell_type": "markdown",
      "source": [
        "# Step 1: Importing Required Libraries"
      ],
      "metadata": {
        "id": "43bC51hl-Avq"
      }
    },
    {
      "cell_type": "code",
      "source": [
        "import sqlite3\n",
        "import openai"
      ],
      "metadata": {
        "colab": {
          "base_uri": "https://localhost:8080/"
        },
        "id": "ukeQAwNpYrpJ",
        "outputId": "15449451-68d6-4678-eb28-a8af206287a1"
      },
      "execution_count": null,
      "outputs": [
        {
          "output_type": "stream",
          "name": "stdout",
          "text": [
            "Requirement already satisfied: openai in /usr/local/lib/python3.11/dist-packages (1.76.0)\n",
            "Requirement already satisfied: cryptography in /usr/local/lib/python3.11/dist-packages (43.0.3)\n",
            "Requirement already satisfied: anyio<5,>=3.5.0 in /usr/local/lib/python3.11/dist-packages (from openai) (4.9.0)\n",
            "Requirement already satisfied: distro<2,>=1.7.0 in /usr/local/lib/python3.11/dist-packages (from openai) (1.9.0)\n",
            "Requirement already satisfied: httpx<1,>=0.23.0 in /usr/local/lib/python3.11/dist-packages (from openai) (0.28.1)\n",
            "Requirement already satisfied: jiter<1,>=0.4.0 in /usr/local/lib/python3.11/dist-packages (from openai) (0.9.0)\n",
            "Requirement already satisfied: pydantic<3,>=1.9.0 in /usr/local/lib/python3.11/dist-packages (from openai) (2.11.3)\n",
            "Requirement already satisfied: sniffio in /usr/local/lib/python3.11/dist-packages (from openai) (1.3.1)\n",
            "Requirement already satisfied: tqdm>4 in /usr/local/lib/python3.11/dist-packages (from openai) (4.67.1)\n",
            "Requirement already satisfied: typing-extensions<5,>=4.11 in /usr/local/lib/python3.11/dist-packages (from openai) (4.13.2)\n",
            "Requirement already satisfied: cffi>=1.12 in /usr/local/lib/python3.11/dist-packages (from cryptography) (1.17.1)\n",
            "Requirement already satisfied: idna>=2.8 in /usr/local/lib/python3.11/dist-packages (from anyio<5,>=3.5.0->openai) (3.10)\n",
            "Requirement already satisfied: pycparser in /usr/local/lib/python3.11/dist-packages (from cffi>=1.12->cryptography) (2.22)\n",
            "Requirement already satisfied: certifi in /usr/local/lib/python3.11/dist-packages (from httpx<1,>=0.23.0->openai) (2025.1.31)\n",
            "Requirement already satisfied: httpcore==1.* in /usr/local/lib/python3.11/dist-packages (from httpx<1,>=0.23.0->openai) (1.0.9)\n",
            "Requirement already satisfied: h11>=0.16 in /usr/local/lib/python3.11/dist-packages (from httpcore==1.*->httpx<1,>=0.23.0->openai) (0.16.0)\n",
            "Requirement already satisfied: annotated-types>=0.6.0 in /usr/local/lib/python3.11/dist-packages (from pydantic<3,>=1.9.0->openai) (0.7.0)\n",
            "Requirement already satisfied: pydantic-core==2.33.1 in /usr/local/lib/python3.11/dist-packages (from pydantic<3,>=1.9.0->openai) (2.33.1)\n",
            "Requirement already satisfied: typing-inspection>=0.4.0 in /usr/local/lib/python3.11/dist-packages (from pydantic<3,>=1.9.0->openai) (0.4.0)\n"
          ]
        }
      ]
    },
    {
      "cell_type": "markdown",
      "source": [
        "#Step 2: Setting the API Key"
      ],
      "metadata": {
        "id": "Kxfq0y3L-p9z"
      }
    },
    {
      "cell_type": "code",
      "source": [
        "openai.api_key = \"YOUR_OPENAI_API_KEY\""
      ],
      "metadata": {
        "id": "RNg9NR5Cjvrq"
      },
      "execution_count": null,
      "outputs": []
    },
    {
      "cell_type": "markdown",
      "source": [
        "#Step 3: Database Initialization"
      ],
      "metadata": {
        "id": "TmOwNSOi-wAT"
      }
    },
    {
      "cell_type": "code",
      "source": [
        "def init_db():\n",
        "    conn = sqlite3.connect('chatbot.db')\n",
        "    c = conn.cursor()\n",
        "\n",
        "    # ایجاد جدول کاربران\n",
        "    c.execute('''CREATE TABLE IF NOT EXISTS users (\n",
        "                    id INTEGER PRIMARY KEY AUTOINCREMENT,\n",
        "                    name TEXT NOT NULL,\n",
        "                    email TEXT NOT NULL UNIQUE,\n",
        "                    age INTEGER,\n",
        "                    gender TEXT\n",
        "                )''')\n",
        "\n",
        "    # ایجاد جدول گفتگوها\n",
        "    c.execute('''CREATE TABLE IF NOT EXISTS conversations (\n",
        "                    id INTEGER PRIMARY KEY AUTOINCREMENT,\n",
        "                    user_email TEXT,\n",
        "                    message TEXT,\n",
        "                    is_bot INTEGER,  -- 1 for bot, 0 for user\n",
        "                    timestamp DATETIME DEFAULT CURRENT_TIMESTAMP,\n",
        "                    FOREIGN KEY (user_email) REFERENCES users(email)\n",
        "                )''')\n",
        "\n",
        "    # ایجاد جدول تست‌ها\n",
        "    c.execute('''CREATE TABLE IF NOT EXISTS test_results (\n",
        "                    id INTEGER PRIMARY KEY AUTOINCREMENT,\n",
        "                    user_email TEXT,\n",
        "                    test_name TEXT,\n",
        "                    score INTEGER,\n",
        "                    result TEXT,\n",
        "                    timestamp DATETIME DEFAULT CURRENT_TIMESTAMP,\n",
        "                    FOREIGN KEY (user_email) REFERENCES users(email)\n",
        "                )''')\n",
        "\n",
        "    conn.commit()\n",
        "    conn.close()"
      ],
      "metadata": {
        "id": "Zo56wiZ3me9Y"
      },
      "execution_count": null,
      "outputs": []
    },
    {
      "cell_type": "markdown",
      "source": [
        "#Step 4: Adding a New User"
      ],
      "metadata": {
        "id": "sNtUlvOM-2_P"
      }
    },
    {
      "cell_type": "code",
      "source": [
        "def add_user(name, email, age, gender):\n",
        "    conn = sqlite3.connect('chatbot.db')\n",
        "    c = conn.cursor()\n",
        "    c.execute('INSERT INTO users (name, email, age, gender) VALUES (?, ?, ?, ?)',\n",
        "              (name, email, age, gender))\n",
        "    conn.commit()\n",
        "    conn.close()"
      ],
      "metadata": {
        "id": "PGk78R2I9JsP"
      },
      "execution_count": null,
      "outputs": []
    },
    {
      "cell_type": "markdown",
      "source": [
        "#Step 5: Saving Messages"
      ],
      "metadata": {
        "id": "fRHmJNE0-7BD"
      }
    },
    {
      "cell_type": "code",
      "source": [
        "def save_message(user_email, message, is_bot):\n",
        "    conn = sqlite3.connect('chatbot.db')\n",
        "    c = conn.cursor()\n",
        "    c.execute('INSERT INTO conversations (user_email, message, is_bot) VALUES (?, ?, ?)',\n",
        "              (user_email, message, is_bot))\n",
        "    conn.commit()\n",
        "    conn.close()"
      ],
      "metadata": {
        "id": "EVk07VXs9NOc"
      },
      "execution_count": null,
      "outputs": []
    },
    {
      "cell_type": "markdown",
      "source": [
        "#Step 6: Retrieving Chat History"
      ],
      "metadata": {
        "id": "a1MQf0vg_DuH"
      }
    },
    {
      "cell_type": "code",
      "source": [
        "def get_conversation_history(user_email):\n",
        "    conn = sqlite3.connect('chatbot.db')\n",
        "    c = conn.cursor()\n",
        "    c.execute('SELECT message, is_bot, timestamp FROM conversations WHERE user_email = ? ORDER BY timestamp ASC', (user_email,))\n",
        "    rows = c.fetchall()\n",
        "    for row in rows:\n",
        "        role = \"Bot\" if row[1] == 1 else \"User\"\n",
        "        print(f\"{role} ({row[2]}): {row[0]}\")\n",
        "    conn.close()"
      ],
      "metadata": {
        "id": "E-QTZS9Q9fgm"
      },
      "execution_count": null,
      "outputs": []
    },
    {
      "cell_type": "markdown",
      "source": [
        "#Step 7: Saving Test Results"
      ],
      "metadata": {
        "id": "z7BanUlX_LC0"
      }
    },
    {
      "cell_type": "code",
      "source": [
        "def save_test_result(user_email, test_name, score, result):\n",
        "    conn = sqlite3.connect('chatbot.db')\n",
        "    c = conn.cursor()\n",
        "    c.execute('INSERT INTO test_results (user_email, test_name, score, result) VALUES (?, ?, ?, ?)',\n",
        "              (user_email, test_name, score, result))\n",
        "    conn.commit()\n",
        "    conn.close()"
      ],
      "metadata": {
        "id": "y-dVL4L59h1e"
      },
      "execution_count": null,
      "outputs": []
    },
    {
      "cell_type": "markdown",
      "source": [
        "#Step 8: Sentiment Analysis with OpenAI"
      ],
      "metadata": {
        "id": "3HpVBAD5_Qlc"
      }
    },
    {
      "cell_type": "code",
      "source": [
        "def analyze_sentiment(message):\n",
        "    response = openai.Completion.create(\n",
        "        engine=\"text-davinci-003\",  # مدل مورد نظر\n",
        "        prompt=f\"Analyze the sentiment of the following text: {message}\\nSentiment:\",\n",
        "        max_tokens=60\n",
        "    )\n",
        "    sentiment = response.choices[0].text.strip()\n",
        "    return sentiment"
      ],
      "metadata": {
        "id": "6T0ZGqes9mEs"
      },
      "execution_count": null,
      "outputs": []
    },
    {
      "cell_type": "markdown",
      "source": [
        "#Step 9: Generating Bot Response"
      ],
      "metadata": {
        "id": "Jpyjue9fAH9n"
      }
    },
    {
      "cell_type": "code",
      "source": [
        "def get_bot_response(user_message):\n",
        "    response = openai.Completion.create(\n",
        "        engine=\"text-davinci-003\",  # مدل مورد نظر\n",
        "        prompt=f\"User says: {user_message}\\nBot responds:\",\n",
        "        max_tokens=150\n",
        "    )\n",
        "    return response.choices[0].text.strip()"
      ],
      "metadata": {
        "id": "JNDh544m9wUz"
      },
      "execution_count": null,
      "outputs": []
    },
    {
      "cell_type": "markdown",
      "source": [
        "#Step 10: User Registration Input"
      ],
      "metadata": {
        "id": "_0ilLfVcAaVZ"
      }
    },
    {
      "cell_type": "code",
      "source": [
        "def register_user():\n",
        "    print(\"ثبت‌نام کاربر\")\n",
        "    name = input(\"نام: \")\n",
        "    email = input(\"ایمیل: \")\n",
        "    age = int(input(\"سن: \"))\n",
        "    gender = input(\"جنسیت (مرد/زن/سایر): \")\n",
        "    add_user(name, email, age, gender)\n",
        "    return email"
      ],
      "metadata": {
        "id": "oFIluh3l905k"
      },
      "execution_count": null,
      "outputs": []
    },
    {
      "cell_type": "markdown",
      "source": [
        "#Step 11: Chatting with the Bot"
      ],
      "metadata": {
        "id": "kGEv1ieJAgXu"
      }
    },
    {
      "cell_type": "code",
      "source": [
        "def chat_with_bot(user_email):\n",
        "    print(\"شروع گفتگو با بات (برای خروج، 'خروج' را تایپ کنید)\")\n",
        "    while True:\n",
        "        user_msg = input(\"شما: \")\n",
        "        if user_msg.lower() == \"خروج\":\n",
        "            break\n",
        "        save_message(user_email, user_msg, is_bot=0)\n",
        "\n",
        "        # تحلیل احساسات\n",
        "        sentiment = analyze_sentiment(user_msg)\n",
        "        print(f\"احساسات شناسایی‌شده: {sentiment}\")\n",
        "\n",
        "        # پاسخ‌دهی بات\n",
        "        bot_response = get_bot_response(user_msg)\n",
        "        print(f\"بات: {bot_response}\")\n",
        "        save_message(user_email, bot_response, is_bot=1)"
      ],
      "metadata": {
        "id": "y3u82mNN949P"
      },
      "execution_count": null,
      "outputs": []
    },
    {
      "cell_type": "markdown",
      "source": [
        "# Step 12: Psychological Test Example"
      ],
      "metadata": {
        "id": "unpYerICLseO"
      }
    },
    {
      "cell_type": "code",
      "source": [
        "def run_test(user_email):\n",
        "    print(\"تست اضطراب (پاسخ با عدد 0 تا 3)\")\n",
        "    score = 0\n",
        "    questions = [\n",
        "        \"احساس نگرانی یا استرس دارید؟\",\n",
        "        \"آیا دچار بی‌خوابی شده‌اید؟\",\n",
        "        \"آیا تمرکزتان کاهش یافته؟\"\n",
        "    ]\n",
        "    for q in questions:\n",
        "        ans = int(input(q + \" \"))\n",
        "        score += ans\n",
        "    result = \"کم\" if score < 3 else \"متوسط\" if score < 6 else \"زیاد\"\n",
        "    print(f\"سطح اضطراب شما: {result}\")\n",
        "    save_test_result(user_email, \"تست اضطراب\", score, result)"
      ],
      "metadata": {
        "id": "ecLIpld1QG1K"
      },
      "execution_count": null,
      "outputs": []
    },
    {
      "cell_type": "markdown",
      "source": [
        "#Step 13: Viewing Chat History"
      ],
      "metadata": {
        "id": "Y6IuszuuL233"
      }
    },
    {
      "cell_type": "code",
      "source": [
        "\n",
        "def view_history(user_email):\n",
        "    print(\"تاریخچه گفتگو:\")\n",
        "    get_conversation_history(user_email)"
      ],
      "metadata": {
        "id": "ktjZbZcKQMwo"
      },
      "execution_count": null,
      "outputs": []
    },
    {
      "cell_type": "markdown",
      "source": [
        "#Step 14: Main Program Loop"
      ],
      "metadata": {
        "id": "vGpSNLePL-Ev"
      }
    },
    {
      "cell_type": "code",
      "source": [
        "# منوی اصلی\n",
        "def main():\n",
        "    init_db() # ساخت جداول پایگاه داده\n",
        "    user_email = register_user()\n",
        "    while True:\n",
        "        print(\"\\\\nمنو:\")\n",
        "        print(\"1. گفتگو با بات\")\n",
        "        print(\"2. تست روان‌شناسی\")\n",
        "        print(\"3. نمایش تاریخچه\")\n",
        "        print(\"4. خروج\")\n",
        "\n",
        "        choice = input(\"انتخاب: \")\n",
        "        if choice == \"1\":\n",
        "            chat_with_bot(user_email)\n",
        "        elif choice == \"2\":\n",
        "            run_test(user_email)\n",
        "        elif choice == \"3\":\n",
        "            view_history(user_email)\n",
        "        elif choice == \"4\":\n",
        "            print(\"خروج از سیستم.\")\n",
        "            break\n",
        "        else:\n",
        "            print(\"انتخاب نامعتبر.\")"
      ],
      "metadata": {
        "id": "jwJq-Cm5QWfZ"
      },
      "execution_count": null,
      "outputs": []
    },
    {
      "cell_type": "markdown",
      "source": [
        "#Step 15: Entry Point"
      ],
      "metadata": {
        "id": "AtyTobwbMN5e"
      }
    },
    {
      "cell_type": "code",
      "source": [
        "if __name__== \"__main__\":\n",
        "    main()"
      ],
      "metadata": {
        "id": "hsYhvoCyQZKG"
      },
      "execution_count": null,
      "outputs": []
    }
  ]
}